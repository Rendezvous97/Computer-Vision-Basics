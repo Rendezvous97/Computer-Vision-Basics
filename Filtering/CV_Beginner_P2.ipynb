{
 "cells": [
  {
   "attachments": {},
   "cell_type": "markdown",
   "metadata": {},
   "source": [
    "## Filtering\n",
    "https://medium.com/towards-data-science/computer-vision-for-beginners-part-2-29b3f9151874 "
   ]
  },
  {
   "attachments": {},
   "cell_type": "markdown",
   "metadata": {},
   "source": [
    "Today we’re going to talk about how to manipulate images. These are going to be a preprocessing stage. When it comes to detecting edges and contours, noise gives a great impact on the accuracy of detection. Therefore removing noises and controlling the intensity of the pixel values can help the model to focus on the general details and get higher accuracy. \n",
    "\n",
    "1. Blurring, \n",
    "2. Thresholding, \n",
    "3. Morphological transformation \n",
    "\n",
    "are the techniques we use for this purpose."
   ]
  },
  {
   "cell_type": "code",
   "execution_count": null,
   "metadata": {},
   "outputs": [],
   "source": []
  }
 ],
 "metadata": {
  "kernelspec": {
   "display_name": "imageprocessing",
   "language": "python",
   "name": "python3"
  },
  "language_info": {
   "name": "python",
   "version": "3.8.16"
  },
  "orig_nbformat": 4,
  "vscode": {
   "interpreter": {
    "hash": "5b85d9fbbe040825c4d486612186e23f90490f418020dc6ce80e5e8d4e7379bc"
   }
  }
 },
 "nbformat": 4,
 "nbformat_minor": 2
}
